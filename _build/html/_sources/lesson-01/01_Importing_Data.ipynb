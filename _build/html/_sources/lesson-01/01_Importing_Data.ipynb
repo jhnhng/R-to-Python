{
 "cells": [
  {
   "metadata": {},
   "cell_type": "markdown",
   "source": "Setting Up Working Directory",
   "id": "12b6feedd1cdaf22"
  },
  {
   "metadata": {
    "ExecuteTime": {
     "end_time": "2025-05-27T20:07:39.712346Z",
     "start_time": "2025-05-27T20:07:39.685698Z"
    }
   },
   "cell_type": "code",
   "source": [
    "# Python Code\n",
    "import os\n",
    "\n",
    "print(\"Current working directory: \", os.getcwd())\n",
    "\n",
    "os.chdir(\"C:/Users/jhnhn/Documents/Data Science Projects/R to Python/Data/01 Importing Data\")\n",
    "\n",
    "print(\"Current working directory: \", os.getcwd())"
   ],
   "id": "6dfe70c6b6a95d3e",
   "outputs": [
    {
     "name": "stdout",
     "output_type": "stream",
     "text": [
      "Current working directory:  C:\\Users\\jhnhn\\Documents\\Data Science Projects\\R to Python\\Data\\01 Importing Data\n"
     ]
    },
    {
     "ename": "FileNotFoundError",
     "evalue": "[WinError 3] The system cannot find the path specified: '~Data/01 Importing Data'",
     "output_type": "error",
     "traceback": [
      "\u001B[31m---------------------------------------------------------------------------\u001B[39m",
      "\u001B[31mFileNotFoundError\u001B[39m                         Traceback (most recent call last)",
      "\u001B[36mCell\u001B[39m\u001B[36m \u001B[39m\u001B[32mIn[11]\u001B[39m\u001B[32m, line 6\u001B[39m\n\u001B[32m      2\u001B[39m \u001B[38;5;28;01mimport\u001B[39;00m\u001B[38;5;250m \u001B[39m\u001B[34;01mos\u001B[39;00m\n\u001B[32m      4\u001B[39m \u001B[38;5;28mprint\u001B[39m(\u001B[33m\"\u001B[39m\u001B[33mCurrent working directory: \u001B[39m\u001B[33m\"\u001B[39m, os.getcwd())\n\u001B[32m----> \u001B[39m\u001B[32m6\u001B[39m \u001B[43mos\u001B[49m\u001B[43m.\u001B[49m\u001B[43mchdir\u001B[49m\u001B[43m(\u001B[49m\u001B[33;43m\"\u001B[39;49m\u001B[33;43m~Data/01 Importing Data\u001B[39;49m\u001B[33;43m\"\u001B[39;49m\u001B[43m)\u001B[49m\n\u001B[32m      8\u001B[39m \u001B[38;5;28mprint\u001B[39m(\u001B[33m\"\u001B[39m\u001B[33mCurrent working directory: \u001B[39m\u001B[33m\"\u001B[39m, os.getcwd())\n",
      "\u001B[31mFileNotFoundError\u001B[39m: [WinError 3] The system cannot find the path specified: '~Data/01 Importing Data'"
     ]
    }
   ],
   "execution_count": 11
  },
  {
   "metadata": {},
   "cell_type": "code",
   "source": [
    "# R Code\n",
    "\n",
    "# Prints the current working directory\n",
    "getwd()\n",
    "\n",
    "# Change the working directory\n",
    "setwd(\"C:/Users/jhnhn/Documents/Data Science Projects/R to Python/Data/01 Importing Data\")"
   ],
   "id": "46e04c623a8282fb",
   "outputs": [],
   "execution_count": null
  },
  {
   "metadata": {},
   "cell_type": "markdown",
   "source": "Importing CSV Files",
   "id": "4152a512f01bab10"
  },
  {
   "cell_type": "code",
   "id": "initial_id",
   "metadata": {
    "collapsed": true
   },
   "source": [
    "# Python Code\n",
    "import pandas as pd\n",
    "\n",
    "data_csv = pd.read_csv(\"data.csv\")"
   ],
   "outputs": [],
   "execution_count": null
  },
  {
   "metadata": {},
   "cell_type": "code",
   "source": [
    "# R Code\n",
    "\n",
    "# Using Base R\n",
    "data_csv <- read.csv(\"data.csv\")\n",
    "\n",
    "# Using readr (tidyverse)\n",
    "library(readr)\n",
    "data_csv <- read_csv(\"data.csv\")"
   ],
   "id": "dade4979fed4fd6e",
   "outputs": [],
   "execution_count": null
  },
  {
   "metadata": {},
   "cell_type": "markdown",
   "source": "Importing from Excel Files",
   "id": "68c58033afe788e7"
  },
  {
   "metadata": {},
   "cell_type": "code",
   "source": [
    "# Python Code\n",
    "import pandas as pd\n",
    "import openpyxl as xl\n",
    "\n",
    "data_excel = pd.read_excel(\"data.xlsx\", sheet_name = 0)"
   ],
   "id": "2883cd75e6bc659b",
   "outputs": [],
   "execution_count": null
  },
  {
   "metadata": {},
   "cell_type": "code",
   "source": [
    "# R Code\n",
    "\n",
    "# Using readxl package\n",
    "library(readxl)\n",
    "data_excel <- read_excel(\"data.xlsx\", sheet = 1)"
   ],
   "id": "b7393f4832ccf814",
   "outputs": [],
   "execution_count": null
  },
  {
   "metadata": {},
   "cell_type": "markdown",
   "source": "Importing JSON Files",
   "id": "eec95add2bf645f9"
  },
  {
   "metadata": {},
   "cell_type": "code",
   "source": [
    "# Python Code\n",
    "import pandas as pd\n",
    "\n",
    "# If JSON is structured like a table\n",
    "data_json = pd.read_json(\"data.json\")"
   ],
   "id": "f4d4a5631b4f2be3",
   "outputs": [],
   "execution_count": null
  },
  {
   "metadata": {},
   "cell_type": "code",
   "source": [
    "# R Code\n",
    "library(jsonlite)\n",
    "\n",
    "data_json <- fromJSON(\"data.json\")"
   ],
   "id": "613b075a60da3da2",
   "outputs": [],
   "execution_count": null
  },
  {
   "metadata": {},
   "cell_type": "markdown",
   "source": "Import Data from SQL Databases",
   "id": "9eb4076597e59d3c"
  },
  {
   "metadata": {
    "ExecuteTime": {
     "end_time": "2025-05-27T20:16:23.510830Z",
     "start_time": "2025-05-27T20:16:23.502555Z"
    }
   },
   "cell_type": "code",
   "source": [
    "# Python Code\n",
    "import sqlite3\n",
    "import pandas as pd\n",
    "\n",
    "# Connect to SQL Database\n",
    "conn = sqlite3.connect(\"database.sqlite\")\n",
    "cursor = conn.cursor()\n",
    "\n",
    "# Query to list all tables\n",
    "cursor.execute(\"SELECT name FROM sqlite_master WHERE type='table';\")\n",
    "tables = cursor.fetchall()\n",
    "\n",
    "# Print tables\n",
    "print([table[0] for table in tables])\n",
    "\n",
    "# Query the data from table name \"tablename\", using the connected SQL Database (i.e., conn)\n",
    "data_sql = pd.read_sql_query(\"SELECT * FROM tablename\",conn)\n",
    "\n",
    "# Disconnect from the SQL Database\n",
    "conn.close()"
   ],
   "id": "de92596975030fa4",
   "outputs": [
    {
     "name": "stdout",
     "output_type": "stream",
     "text": [
      "['tablename']\n"
     ]
    }
   ],
   "execution_count": 12
  },
  {
   "metadata": {},
   "cell_type": "code",
   "source": [
    "# R Code\n",
    "library(DBI)\n",
    "\n",
    "# Connect to SQL Database using a function for \"RSQLite\"\n",
    "con <- dbConnect(RSQLite::SQLite(), \"database.sqlite\")\n",
    "\n",
    "# Query to list all of the tables\n",
    "tables <- dbListTables(con)\n",
    "\n",
    "# Print tables\n",
    "print(tables)\n",
    "\n",
    "# Query the data from table name \"tablename\", using the connected SQL Database (i.e., conn)\n",
    "data_sql <- dbGetQuery(con, \"SELECT * FROM tablename\")\n",
    "\n",
    "# Disconnect from the SQL Database\n",
    "dbDisconnect(con)"
   ],
   "id": "9225bb8167ef6d03",
   "outputs": [],
   "execution_count": null
  },
  {
   "metadata": {},
   "cell_type": "markdown",
   "source": "Importing from Web URLs",
   "id": "c99c4e86c718e4b1"
  },
  {
   "metadata": {},
   "cell_type": "code",
   "outputs": [],
   "execution_count": null,
   "source": [
    "# Python Code\n",
    "import pandas as pd\n",
    "\n",
    "# Import a .csv file from a url\n",
    "data_url = pd.read_csv(\"https://example.com/data.csv\")"
   ],
   "id": "3e29b962498dfe1a"
  },
  {
   "metadata": {},
   "cell_type": "code",
   "outputs": [],
   "execution_count": null,
   "source": [
    "# R Code\n",
    "data <- read.csv(\"https://example.com/data.csv\")"
   ],
   "id": "73ae61bf2d8e9007"
  }
 ],
 "metadata": {
  "kernelspec": {
   "display_name": "Python 3",
   "language": "python",
   "name": "python3"
  },
  "language_info": {
   "codemirror_mode": {
    "name": "ipython",
    "version": 2
   },
   "file_extension": ".py",
   "mimetype": "text/x-python",
   "name": "python",
   "nbconvert_exporter": "python",
   "pygments_lexer": "ipython2",
   "version": "2.7.6"
  }
 },
 "nbformat": 4,
 "nbformat_minor": 5
}
