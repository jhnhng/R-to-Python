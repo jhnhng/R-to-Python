{
 "cells": [
  {
   "cell_type": "markdown",
   "id": "12b6feedd1cdaf22",
   "metadata": {},
   "source": [
    "Setting Up Working Directory"
   ]
  },
  {
   "cell_type": "code",
   "execution_count": 1,
   "id": "6dfe70c6b6a95d3e",
   "metadata": {
    "ExecuteTime": {
     "end_time": "2025-05-27T20:07:39.712346Z",
     "start_time": "2025-05-27T20:07:39.685698Z"
    }
   },
   "outputs": [
    {
     "name": "stdout",
     "output_type": "stream",
     "text": [
      "Current working directory:  C:\\Users\\jhnhn\\Documents\\Data Science Projects\\R-to-Python\\lesson-01\n"
     ]
    },
    {
     "ename": "FileNotFoundError",
     "evalue": "[WinError 3] The system cannot find the path specified: 'C:/Users/jhnhn/Documents/Data Science Projects/R to Python/Data/01 Importing Data'",
     "output_type": "error",
     "traceback": [
      "\u001b[31m---------------------------------------------------------------------------\u001b[39m",
      "\u001b[31mFileNotFoundError\u001b[39m                         Traceback (most recent call last)",
      "\u001b[36mCell\u001b[39m\u001b[36m \u001b[39m\u001b[32mIn[1]\u001b[39m\u001b[32m, line 6\u001b[39m\n\u001b[32m      2\u001b[39m \u001b[38;5;28;01mimport\u001b[39;00m\u001b[38;5;250m \u001b[39m\u001b[34;01mos\u001b[39;00m\n\u001b[32m      4\u001b[39m \u001b[38;5;28mprint\u001b[39m(\u001b[33m\"\u001b[39m\u001b[33mCurrent working directory: \u001b[39m\u001b[33m\"\u001b[39m, os.getcwd())\n\u001b[32m----> \u001b[39m\u001b[32m6\u001b[39m \u001b[43mos\u001b[49m\u001b[43m.\u001b[49m\u001b[43mchdir\u001b[49m\u001b[43m(\u001b[49m\u001b[33;43m\"\u001b[39;49m\u001b[33;43mC:/Users/jhnhn/Documents/Data Science Projects/R to Python/Data/01 Importing Data\u001b[39;49m\u001b[33;43m\"\u001b[39;49m\u001b[43m)\u001b[49m\n\u001b[32m      8\u001b[39m \u001b[38;5;28mprint\u001b[39m(\u001b[33m\"\u001b[39m\u001b[33mCurrent working directory: \u001b[39m\u001b[33m\"\u001b[39m, os.getcwd())\n",
      "\u001b[31mFileNotFoundError\u001b[39m: [WinError 3] The system cannot find the path specified: 'C:/Users/jhnhn/Documents/Data Science Projects/R to Python/Data/01 Importing Data'"
     ]
    }
   ],
   "source": [
    "# Python Code\n",
    "import os\n",
    "\n",
    "print(\"Current working directory: \", os.getcwd())\n",
    "\n",
    "os.chdir(\"C:/Users/jhnhn/Documents/Data Science Projects/R to Python/Data/01 Importing Data\")\n",
    "\n",
    "print(\"Current working directory: \", os.getcwd())"
   ]
  },
  {
   "cell_type": "code",
   "execution_count": null,
   "id": "46e04c623a8282fb",
   "metadata": {},
   "outputs": [],
   "source": [
    "# R Code\n",
    "\n",
    "# Prints the current working directory\n",
    "getwd()\n",
    "\n",
    "# Change the working directory\n",
    "setwd(\"C:/Users/jhnhn/Documents/Data Science Projects/R to Python/Data/01 Importing Data\")"
   ]
  },
  {
   "cell_type": "markdown",
   "id": "4152a512f01bab10",
   "metadata": {},
   "source": [
    "Importing CSV Files"
   ]
  },
  {
   "cell_type": "code",
   "execution_count": null,
   "id": "initial_id",
   "metadata": {
    "collapsed": true
   },
   "outputs": [],
   "source": [
    "# Python Code\n",
    "import pandas as pd\n",
    "\n",
    "data_csv = pd.read_csv(\"data.csv\")"
   ]
  },
  {
   "cell_type": "code",
   "execution_count": null,
   "id": "dade4979fed4fd6e",
   "metadata": {},
   "outputs": [],
   "source": [
    "# R Code\n",
    "\n",
    "# Using Base R\n",
    "data_csv <- read.csv(\"data.csv\")\n",
    "\n",
    "# Using readr (tidyverse)\n",
    "library(readr)\n",
    "data_csv <- read_csv(\"data.csv\")"
   ]
  },
  {
   "cell_type": "markdown",
   "id": "68c58033afe788e7",
   "metadata": {},
   "source": [
    "Importing from Excel Files"
   ]
  },
  {
   "cell_type": "code",
   "execution_count": null,
   "id": "2883cd75e6bc659b",
   "metadata": {},
   "outputs": [],
   "source": [
    "# Python Code\n",
    "import pandas as pd\n",
    "import openpyxl as xl\n",
    "\n",
    "data_excel = pd.read_excel(\"data.xlsx\", sheet_name = 0)"
   ]
  },
  {
   "cell_type": "code",
   "execution_count": null,
   "id": "b7393f4832ccf814",
   "metadata": {},
   "outputs": [],
   "source": [
    "# R Code\n",
    "\n",
    "# Using readxl package\n",
    "library(readxl)\n",
    "data_excel <- read_excel(\"data.xlsx\", sheet = 1)"
   ]
  },
  {
   "cell_type": "markdown",
   "id": "eec95add2bf645f9",
   "metadata": {},
   "source": [
    "Importing JSON Files"
   ]
  },
  {
   "cell_type": "code",
   "execution_count": null,
   "id": "f4d4a5631b4f2be3",
   "metadata": {},
   "outputs": [],
   "source": [
    "# Python Code\n",
    "import pandas as pd\n",
    "\n",
    "# If JSON is structured like a table\n",
    "data_json = pd.read_json(\"data.json\")"
   ]
  },
  {
   "cell_type": "code",
   "execution_count": null,
   "id": "613b075a60da3da2",
   "metadata": {},
   "outputs": [],
   "source": [
    "# R Code\n",
    "library(jsonlite)\n",
    "\n",
    "data_json <- fromJSON(\"data.json\")"
   ]
  },
  {
   "cell_type": "markdown",
   "id": "9eb4076597e59d3c",
   "metadata": {},
   "source": [
    "Import Data from SQL Databases"
   ]
  },
  {
   "cell_type": "code",
   "execution_count": 12,
   "id": "de92596975030fa4",
   "metadata": {
    "ExecuteTime": {
     "end_time": "2025-05-27T20:16:23.510830Z",
     "start_time": "2025-05-27T20:16:23.502555Z"
    }
   },
   "outputs": [
    {
     "name": "stdout",
     "output_type": "stream",
     "text": [
      "['tablename']\n"
     ]
    }
   ],
   "source": [
    "# Python Code\n",
    "import sqlite3\n",
    "import pandas as pd\n",
    "\n",
    "# Connect to SQL Database\n",
    "conn = sqlite3.connect(\"database.sqlite\")\n",
    "cursor = conn.cursor()\n",
    "\n",
    "# Query to list all tables\n",
    "cursor.execute(\"SELECT name FROM sqlite_master WHERE type='table';\")\n",
    "tables = cursor.fetchall()\n",
    "\n",
    "# Print tables\n",
    "print([table[0] for table in tables])\n",
    "\n",
    "# Query the data from table name \"tablename\", using the connected SQL Database (i.e., conn)\n",
    "data_sql = pd.read_sql_query(\"SELECT * FROM tablename\",conn)\n",
    "\n",
    "# Disconnect from the SQL Database\n",
    "conn.close()"
   ]
  },
  {
   "cell_type": "code",
   "execution_count": null,
   "id": "9225bb8167ef6d03",
   "metadata": {},
   "outputs": [],
   "source": [
    "# R Code\n",
    "library(DBI)\n",
    "\n",
    "# Connect to SQL Database using a function for \"RSQLite\"\n",
    "con <- dbConnect(RSQLite::SQLite(), \"database.sqlite\")\n",
    "\n",
    "# Query to list all of the tables\n",
    "tables <- dbListTables(con)\n",
    "\n",
    "# Print tables\n",
    "print(tables)\n",
    "\n",
    "# Query the data from table name \"tablename\", using the connected SQL Database (i.e., conn)\n",
    "data_sql <- dbGetQuery(con, \"SELECT * FROM tablename\")\n",
    "\n",
    "# Disconnect from the SQL Database\n",
    "dbDisconnect(con)"
   ]
  },
  {
   "cell_type": "markdown",
   "id": "c99c4e86c718e4b1",
   "metadata": {},
   "source": [
    "Importing from Web URLs"
   ]
  },
  {
   "cell_type": "code",
   "execution_count": null,
   "id": "3e29b962498dfe1a",
   "metadata": {},
   "outputs": [],
   "source": [
    "# Python Code\n",
    "import pandas as pd\n",
    "\n",
    "# Import a .csv file from a url\n",
    "data_url = pd.read_csv(\"https://example.com/data.csv\")"
   ]
  },
  {
   "cell_type": "code",
   "execution_count": null,
   "id": "73ae61bf2d8e9007",
   "metadata": {},
   "outputs": [],
   "source": [
    "# R Code\n",
    "data <- read.csv(\"https://example.com/data.csv\")"
   ]
  }
 ],
 "metadata": {
  "kernelspec": {
   "display_name": "Python 3",
   "language": "python",
   "name": "python3"
  },
  "language_info": {
   "codemirror_mode": {
    "name": "ipython",
    "version": 3
   },
   "file_extension": ".py",
   "mimetype": "text/x-python",
   "name": "python",
   "nbconvert_exporter": "python",
   "pygments_lexer": "ipython3",
   "version": "3.13.3"
  }
 },
 "nbformat": 4,
 "nbformat_minor": 5
}